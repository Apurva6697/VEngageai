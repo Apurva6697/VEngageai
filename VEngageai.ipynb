{
  "nbformat": 4,
  "nbformat_minor": 0,
  "metadata": {
    "colab": {
      "provenance": [],
      "authorship_tag": "ABX9TyP8vwNcTRlYzY27RsNYQKIf",
      "include_colab_link": true
    },
    "kernelspec": {
      "name": "python3",
      "display_name": "Python 3"
    },
    "language_info": {
      "name": "python"
    }
  },
  "cells": [
    {
      "cell_type": "markdown",
      "metadata": {
        "id": "view-in-github",
        "colab_type": "text"
      },
      "source": [
        "<a href=\"https://colab.research.google.com/github/Apurva6697/VEngageai/blob/main/VEngageai.ipynb\" target=\"_parent\"><img src=\"https://colab.research.google.com/assets/colab-badge.svg\" alt=\"Open In Colab\"/></a>"
      ]
    },
    {
      "cell_type": "code",
      "source": [
        "import pandas as pd\n",
        "import sqlite3\n",
        "from tabulate import tabulate\n",
        "\n",
        "class PhoneBookDB:\n",
        "    def __init__(self, db_name='phone_book.db'):\n",
        "        self.connection = sqlite3.connect(db_name)\n",
        "        self.cursor = self.connection.cursor()\n",
        "        self.create_phone_records_table()\n",
        "\n",
        "    def create_phone_records_table(self):\n",
        "        query = '''\n",
        "            CREATE TABLE IF NOT EXISTS phone_records (\n",
        "                Name TEXT,\n",
        "                email TEXT,\n",
        "                \"Phone 1\" TEXT,\n",
        "                \"Phone 2\" TEXT\n",
        "            );\n",
        "        '''\n",
        "        self.cursor.execute(query)\n",
        "        self.connection.commit()\n",
        "\n",
        "    def read_records_from_file(self, file_path, file_format='csv'):\n",
        "        try:\n",
        "            if file_format == 'csv':\n",
        "                df = pd.read_csv(file_path)\n",
        "            elif file_format == 'json':\n",
        "                df = pd.read_json(file_path)\n",
        "\n",
        "            # Convert DataFrame to list of dictionaries\n",
        "            records = df.to_dict(orient='records')\n",
        "        except Exception as e:\n",
        "            print(f\"An error occurred while reading records: {e}\")\n",
        "            records = []\n",
        "\n",
        "        return records\n",
        "\n",
        "    def execute_query(self, query):\n",
        "        try:\n",
        "            self.cursor.execute(query)\n",
        "            self.connection.commit()\n",
        "        except Exception as e:\n",
        "            print(f\"An error occurred: {e}\")\n",
        "\n",
        "    def select_records(self, condition=''):\n",
        "        query = f\"SELECT * FROM phone_records {condition} LIMIT 10;\"\n",
        "        self.cursor.execute(query)\n",
        "        records = self.cursor.fetchall()\n",
        "        return records\n",
        "\n",
        "phone_book_db = PhoneBookDB()\n",
        "\n",
        "# Problem 1: Read phone book records from CSV file\n",
        "phone_book_db.execute_query(\"DELETE FROM phone_records\")  # Clear existing data\n",
        "file_path = 'phone_records.csv'\n",
        "phone_records = phone_book_db.read_records_from_file(file_path, file_format='csv')\n",
        "\n",
        "# Convert list of dictionaries to DataFrame\n",
        "df = pd.DataFrame(phone_records)\n",
        "\n",
        "# Insert records into the database\n",
        "for _, row in df.iterrows():\n",
        "    insert_query = f'''\n",
        "        INSERT INTO phone_records (Name, email, \"Phone 1\", \"Phone 2\")\n",
        "        VALUES ('{row['Name']}', '{row['email']}', '{row['Phone 1']}', '{row['Phone 2']}');\n",
        "    '''\n",
        "    phone_book_db.execute_query(insert_query)\n",
        "# Display the initial records using Pandas DataFrame\n",
        "print(\"\\nInitial records:\")\n",
        "print(tabulate(df, headers='keys', tablefmt='psql'))"
      ],
      "metadata": {
        "colab": {
          "base_uri": "https://localhost:8080/"
        },
        "id": "MvSWEvzrEzS7",
        "outputId": "b3fef62a-628a-4001-cf41-31042fee5905"
      },
      "execution_count": null,
      "outputs": [
        {
          "output_type": "stream",
          "name": "stdout",
          "text": [
            "\n",
            "Initial records:\n",
            "+----+---------------------+---------------------------+------------+------------+\n",
            "|    | Name                | email                     |    Phone 1 |    Phone 2 |\n",
            "|----+---------------------+---------------------------+------------+------------|\n",
            "|  0 | Ashlee Walker       | shelbygomez@example.com   |  915769922 | 8936064636 |\n",
            "|  1 | Stephanie Lee       | kaustin@example.com       | 5080243255 | 9701342284 |\n",
            "|  2 | Amy Garrison        | jennifer90@example.org    | 6605271762 | 6056240648 |\n",
            "|  3 | Mr. Keith Strong MD | adamsingleton@example.net |  357116779 | 5267841163 |\n",
            "|  4 | Michael Griffin     | graymelanie@example.com   | 8074445120 | 4948681748 |\n",
            "|  5 | Joe Choi            | nlopez@example.net        | 8605128162 | 5039085473 |\n",
            "|  6 | Michael Miller      | youngdaniel@example.net   | 2368085023 | 5929663147 |\n",
            "|  7 | Ashley Pena         | davistimothy@example.com  | 8577998786 |   36713725 |\n",
            "|  8 | Tony Benson         | tyler76@example.net       | 1151374137 | 3103878046 |\n",
            "|  9 | Jason Lewis         | brayjose@example.org      | 9424026249 | 4212063242 |\n",
            "+----+---------------------+---------------------------+------------+------------+\n"
          ]
        }
      ]
    },
    {
      "cell_type": "code",
      "source": [
        "from tabulate import tabulate\n",
        "# Convert the records to a Pandas DataFrame\n",
        "df = pd.DataFrame(phone_book_db.select_records(), columns=['Name', 'email', 'Phone 1', 'Phone 2'])\n",
        "\n",
        "# Display the initial records\n",
        "print(\"\\nInitial records:\")\n",
        "print(tabulate(df, headers='keys', tablefmt='psql'))\n",
        "\n",
        "# Delete the row with name 'Tony'\n",
        "df = df[df['Name'] != 'Tony']\n",
        "\n",
        "# Insert a new row with name 'Test'\n",
        "new_row = pd.DataFrame({'Name': ['Test'], 'email': ['test@test.xtyz'], 'Phone 1': ['1234456'], 'Phone 2': ['1233233']})\n",
        "df = pd.concat([df, new_row], ignore_index=True)\n",
        "\n",
        "# Display the updated records\n",
        "print(\"\\nUpdated records:\")\n",
        "print(tabulate(df, headers='keys', tablefmt='psql'))\n",
        "\n",
        "# Update the SQLite database with the modified DataFrame\n",
        "phone_book_db.execute_query(\"DELETE FROM phone_records\")  # Clear existing data\n",
        "df.to_sql('phone_records', con=phone_book_db.connection, index=False, if_exists='append')\n"
      ],
      "metadata": {
        "colab": {
          "base_uri": "https://localhost:8080/"
        },
        "id": "pDSG7DzWTDpk",
        "outputId": "f91fc2dc-9d03-437f-da19-e27213c7ec8f"
      },
      "execution_count": null,
      "outputs": [
        {
          "output_type": "stream",
          "name": "stdout",
          "text": [
            "\n",
            "Initial records:\n",
            "+----+---------------------+---------------------------+------------+------------+\n",
            "|    | Name                | email                     |    Phone 1 |    Phone 2 |\n",
            "|----+---------------------+---------------------------+------------+------------|\n",
            "|  0 | Ashlee Walker       | shelbygomez@example.com   |  915769922 | 8936064636 |\n",
            "|  1 | Stephanie Lee       | kaustin@example.com       | 5080243255 | 9701342284 |\n",
            "|  2 | Amy Garrison        | jennifer90@example.org    | 6605271762 | 6056240648 |\n",
            "|  3 | Mr. Keith Strong MD | adamsingleton@example.net |  357116779 | 5267841163 |\n",
            "|  4 | Michael Griffin     | graymelanie@example.com   | 8074445120 | 4948681748 |\n",
            "|  5 | Joe Choi            | nlopez@example.net        | 8605128162 | 5039085473 |\n",
            "|  6 | Michael Miller      | youngdaniel@example.net   | 2368085023 | 5929663147 |\n",
            "|  7 | Ashley Pena         | davistimothy@example.com  | 8577998786 |   36713725 |\n",
            "|  8 | Tony Benson         | tyler76@example.net       | 1151374137 | 3103878046 |\n",
            "|  9 | Jason Lewis         | brayjose@example.org      | 9424026249 | 4212063242 |\n",
            "+----+---------------------+---------------------------+------------+------------+\n",
            "\n",
            "Updated records:\n",
            "+----+---------------------+---------------------------+------------+------------+\n",
            "|    | Name                | email                     |    Phone 1 |    Phone 2 |\n",
            "|----+---------------------+---------------------------+------------+------------|\n",
            "|  0 | Ashlee Walker       | shelbygomez@example.com   |  915769922 | 8936064636 |\n",
            "|  1 | Stephanie Lee       | kaustin@example.com       | 5080243255 | 9701342284 |\n",
            "|  2 | Amy Garrison        | jennifer90@example.org    | 6605271762 | 6056240648 |\n",
            "|  3 | Mr. Keith Strong MD | adamsingleton@example.net |  357116779 | 5267841163 |\n",
            "|  4 | Michael Griffin     | graymelanie@example.com   | 8074445120 | 4948681748 |\n",
            "|  5 | Joe Choi            | nlopez@example.net        | 8605128162 | 5039085473 |\n",
            "|  6 | Michael Miller      | youngdaniel@example.net   | 2368085023 | 5929663147 |\n",
            "|  7 | Ashley Pena         | davistimothy@example.com  | 8577998786 |   36713725 |\n",
            "|  8 | Tony Benson         | tyler76@example.net       | 1151374137 | 3103878046 |\n",
            "|  9 | Jason Lewis         | brayjose@example.org      | 9424026249 | 4212063242 |\n",
            "| 10 | Test                | test@test.xtyz            |    1234456 |    1233233 |\n",
            "+----+---------------------+---------------------------+------------+------------+\n"
          ]
        },
        {
          "output_type": "execute_result",
          "data": {
            "text/plain": [
              "11"
            ]
          },
          "metadata": {},
          "execution_count": 19
        }
      ]
    }
  ]
}